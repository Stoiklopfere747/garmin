{
 "cells": [
  {
   "cell_type": "markdown",
   "metadata": {},
   "source": [
    "# 📝 Git Cheat Sheet (Good Etiquette)\n",
    "\n",
    "Quick reference for daily Git workflow with best practices.\n",
    "\n",
    "---"
   ]
  },
  {
   "cell_type": "markdown",
   "metadata": {},
   "source": [
    "## ✅ General Workflow\n",
    "1. **Always pull first** (make sure your branch is up to date).\n",
    "2. **Create a new branch** for each task/feature.\n",
    "3. **Make changes** (add, modify, delete files).\n",
    "4. **Stage changes** with `git add`.\n",
    "5. **Commit** with a clear message.\n",
    "6. **Push** the branch.\n",
    "7. Open a Pull Request (PR) or merge when ready.\n",
    "\n",
    "---"
   ]
  },
  {
   "cell_type": "markdown",
   "metadata": {},
   "source": [
    "## 🔄 Sync with Remote\n",
    "```bash\n",
    "git pull origin main\n",
    "```\n",
    "\n",
    "If histories are unrelated: (Where did my comment go to?)\n",
    "```bash\n",
    "git pull origin main --allow-unrelated-histories\n",
    "```"
   ]
  },
  {
   "cell_type": "markdown",
   "metadata": {},
   "source": [
    "## 🌿 Branch Management\n",
    "Create a new branch:\n",
    "```bash\n",
    "git checkout -b feature-branch\n",
    "```\n",
    "\n",
    "Switch back to main:\n",
    "```bash\n",
    "git checkout main\n",
    "```\n",
    "\n",
    "Delete branch:\n",
    "```bash\n",
    "git branch -d feature-branch\n",
    "```"
   ]
  },
  {
   "cell_type": "markdown",
   "metadata": {},
   "source": [
    "## 📂 File Changes\n",
    "Add new/modified files:\n",
    "```bash\n",
    "git add <file>\n",
    "```\n",
    "\n",
    "Add everything:\n",
    "```bash\n",
    "git add .\n",
    "```\n",
    "\n",
    "Remove a deleted file:\n",
    "```bash\n",
    "git rm <file>\n",
    "```"
   ]
  },
  {
   "cell_type": "markdown",
   "metadata": {},
   "source": [
    "## 💬 Commits\n",
    "Commit with message:\n",
    "```bash\n",
    "git commit -m \"Describe your change\"\n",
    "```\n",
    "\n",
    "Amend last commit (e.g., forgot to add a file):\n",
    "```bash\n",
    "git commit --amend\n",
    "```"
   ]
  },
  {
   "cell_type": "markdown",
   "metadata": {},
   "source": [
    "## 🚀 Push & Merge\n",
    "Push your branch:\n",
    "```bash\n",
    "git push -u origin feature-branch\n",
    "```\n",
    "\n",
    "Merge branch into main:\n",
    "```bash\n",
    "git checkout main\n",
    "git merge feature-branch\n",
    "```"
   ]
  },
  {
   "cell_type": "markdown",
   "metadata": {},
   "source": [
    "## ⚠️ Conflicts\n",
    "If conflicts appear:\n",
    "1. Edit conflicted files manually.\n",
    "2. Mark them as resolved:\n",
    "   ```bash\n",
    "   git add <file>\n",
    "   ```\n",
    "3. Continue rebase/merge:\n",
    "   ```bash\n",
    "   git rebase --continue\n",
    "   ```"
   ]
  },
  {
   "cell_type": "markdown",
   "metadata": {},
   "source": [
    "---\n",
    "✅ **Rule of thumb**: Pull → Branch → Work → Commit → Push → Merge"
   ]
  }
 ],
 "metadata": {
  "kernelspec": {
   "display_name": "venv",
   "language": "python",
   "name": "python3"
  },
  "language_info": {
   "name": "python",
   "version": "3.11.9"
  }
 },
 "nbformat": 4,
 "nbformat_minor": 2
}
